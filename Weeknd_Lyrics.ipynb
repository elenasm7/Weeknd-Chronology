{
 "cells": [
  {
   "cell_type": "code",
   "execution_count": 1,
   "metadata": {
    "collapsed": true
   },
   "outputs": [],
   "source": [
    "import csv\n",
    "import pandas as pd \n",
    "import numpy as np"
   ]
  },
  {
   "cell_type": "code",
   "execution_count": 6,
   "metadata": {},
   "outputs": [],
   "source": [
    "theNoise = open('Albums/The_Noise_lyrics.txt')\n",
    "\n",
    "lyrics_tn = []\n",
    "\n",
    "for line in theNoise:\n",
    "\n",
    "    words = line.split()\n",
    "\n",
    "    if len(words) and not words[0][0] == \"\\n\":\n",
    "\n",
    "        lyrics_tn += words\n",
    "\n",
    "theNoise.close()"
   ]
  },
  {
   "cell_type": "code",
   "execution_count": 11,
   "metadata": {},
   "outputs": [],
   "source": [
    "d1 = {'Album': [], 'Date':[], 'Lyrics':[]}\n",
    "theNoise_df = pd.DataFrame(data=d1)"
   ]
  },
  {
   "cell_type": "code",
   "execution_count": 12,
   "metadata": {
    "collapsed": true
   },
   "outputs": [],
   "source": [
    "theNoise_df['Lyrics'] = lyrics_tn"
   ]
  },
  {
   "cell_type": "code",
   "execution_count": 15,
   "metadata": {
    "collapsed": true
   },
   "outputs": [],
   "source": [
    "theNoise_df['Album'] = 'The Noise'\n",
    "theNoise_df['Date'] = '01/01/2009'"
   ]
  },
  {
   "cell_type": "code",
   "execution_count": 17,
   "metadata": {},
   "outputs": [],
   "source": [
    "houseofBalloons = open('Albums/House_of_Balloons.txt')\n",
    "\n",
    "lyrics_HOB = []\n",
    "\n",
    "for line in houseofBalloons:\n",
    "\n",
    "    words = line.split()\n",
    "\n",
    "    if len(words) and not words[0][0] == \"\\n\":\n",
    "\n",
    "        lyrics_HOB += words\n",
    "\n",
    "houseofBalloons.close()"
   ]
  },
  {
   "cell_type": "code",
   "execution_count": 18,
   "metadata": {
    "collapsed": true
   },
   "outputs": [],
   "source": [
    "d2 = {'Album': [], 'Date':[], 'Lyrics':[]}\n",
    "houseofBalloons_df = pd.DataFrame(data=d2)\n",
    "houseofBalloons_df['Lyrics'] = lyrics_HOB\n",
    "houseofBalloons_df['Album'] = 'House of Balloons'\n",
    "houseofBalloons_df['Date'] = '03/21/2011'"
   ]
  },
  {
   "cell_type": "code",
   "execution_count": 23,
   "metadata": {},
   "outputs": [],
   "source": [
    "thurs = open('Thursday.txt')\n",
    "\n",
    "lyrics_t = []\n",
    "\n",
    "for line in thurs:\n",
    "\n",
    "    words = line.split()\n",
    "\n",
    "    if len(words) and not words[0][0] == \"\\n\":\n",
    "\n",
    "        lyrics_t += words\n",
    "\n",
    "thurs.close()"
   ]
  },
  {
   "cell_type": "code",
   "execution_count": 24,
   "metadata": {
    "collapsed": true
   },
   "outputs": [],
   "source": [
    "d3 = {'Album': [], 'Date':[], 'Lyrics':[]}\n",
    "thurs_df = pd.DataFrame(data=d3)\n",
    "thurs_df['Lyrics'] = lyrics_t\n",
    "thurs_df['Album'] = 'Thursday'\n",
    "thurs_df['Date'] = '08/18/2011'"
   ]
  },
  {
   "cell_type": "code",
   "execution_count": 26,
   "metadata": {},
   "outputs": [],
   "source": [
    "echosOfSilence = open('Albums/Echoes_of_Silence.txt')\n",
    "\n",
    "lyrics_eos = []\n",
    "\n",
    "for line in echosOfSilence:\n",
    "\n",
    "    words = line.split()\n",
    "\n",
    "    if len(words) and not words[0][0] == \"\\n\":\n",
    "\n",
    "        lyrics_eos += words\n",
    "\n",
    "echosOfSilence.close()"
   ]
  },
  {
   "cell_type": "code",
   "execution_count": 27,
   "metadata": {
    "collapsed": true
   },
   "outputs": [],
   "source": [
    "d4 = {'Album': [], 'Date':[], 'Lyrics':[]}\n",
    "echosOfSilence_df = pd.DataFrame(data=d4)\n",
    "echosOfSilence_df['Lyrics'] = lyrics_eos\n",
    "echosOfSilence_df['Album'] = 'Echos of Silence'\n",
    "echosOfSilence_df['Date'] = '12/21/2011'"
   ]
  },
  {
   "cell_type": "code",
   "execution_count": 30,
   "metadata": {},
   "outputs": [],
   "source": [
    "trilogy = open('Albums/Trilogy_Bonus.txt')\n",
    "\n",
    "lyrics_tril = []\n",
    "\n",
    "for line in trilogy:\n",
    "\n",
    "    words = line.split()\n",
    "\n",
    "    if len(words) and not words[0][0] == \"\\n\":\n",
    "\n",
    "        lyrics_tril += words\n",
    "\n",
    "trilogy.close()"
   ]
  },
  {
   "cell_type": "code",
   "execution_count": 31,
   "metadata": {
    "collapsed": true
   },
   "outputs": [],
   "source": [
    "d5 = {'Album': [], 'Date':[], 'Lyrics':[]}\n",
    "trilogy_df = pd.DataFrame(data=d5)\n",
    "trilogy_df['Lyrics'] = lyrics_tril\n",
    "trilogy_df['Album'] = 'Trilogy'\n",
    "trilogy_df['Date'] = '11/09/2012'"
   ]
  },
  {
   "cell_type": "code",
   "execution_count": 42,
   "metadata": {},
   "outputs": [],
   "source": [
    "kissland = open('Albums/Kiss_Land.txt')\n",
    "\n",
    "lyrics_kiss = []\n",
    "\n",
    "for line in kissland:\n",
    "\n",
    "    words = line.split()\n",
    "\n",
    "    if len(words) and not words[0][0] == \"\\n\":\n",
    "\n",
    "        lyrics_kiss += words\n",
    "\n",
    "kissland.close()"
   ]
  },
  {
   "cell_type": "code",
   "execution_count": 43,
   "metadata": {
    "collapsed": true
   },
   "outputs": [],
   "source": [
    "d6 = {'Album': [], 'Date':[], 'Lyrics':[]}\n",
    "kissland_df = pd.DataFrame(data=d6)\n",
    "kissland_df['Lyrics'] = lyrics_kiss\n",
    "kissland_df['Album'] = 'Kiss Land'\n",
    "kissland_df['Date'] = '09/10/2013'"
   ]
  },
  {
   "cell_type": "code",
   "execution_count": 46,
   "metadata": {},
   "outputs": [],
   "source": [
    "BBTM = open('Albums/Beauty_Behind_the_Madness.txt')\n",
    "\n",
    "lyrics_BBTM = []\n",
    "\n",
    "for line in BBTM:\n",
    "\n",
    "    words = line.split()\n",
    "\n",
    "    if len(words) and not words[0][0] == \"\\n\":\n",
    "\n",
    "        lyrics_BBTM += words\n",
    "\n",
    "BBTM.close()"
   ]
  },
  {
   "cell_type": "code",
   "execution_count": 47,
   "metadata": {
    "collapsed": true
   },
   "outputs": [],
   "source": [
    "d7 = {'Album': [], 'Date':[], 'Lyrics':[]}\n",
    "BBTM_df = pd.DataFrame(data=d7)\n",
    "BBTM_df['Lyrics'] = lyrics_BBTM\n",
    "BBTM_df['Album'] = 'Beauty Behind the Madness'\n",
    "BBTM_df['Date'] = '08/28/2015'"
   ]
  },
  {
   "cell_type": "code",
   "execution_count": 59,
   "metadata": {},
   "outputs": [],
   "source": [
    "starboy = open('Albums/Starboy.txt')\n",
    "\n",
    "lyrics_SB = []\n",
    "\n",
    "for line in starboy:\n",
    "\n",
    "    words = line.split()\n",
    "\n",
    "    if len(words) and not words[0][0] == \"\\n\":\n",
    "\n",
    "        lyrics_SB += words\n",
    "\n",
    "starboy.close()"
   ]
  },
  {
   "cell_type": "code",
   "execution_count": 60,
   "metadata": {
    "collapsed": true
   },
   "outputs": [],
   "source": [
    "d8 = {'Album': [], 'Date':[], 'Lyrics':[]}\n",
    "starboy_df = pd.DataFrame(data=d8)\n",
    "starboy_df['Lyrics'] = lyrics_SB\n",
    "starboy_df['Album'] = 'Starboy'\n",
    "starboy_df['Date'] = '11/25/2016'"
   ]
  },
  {
   "cell_type": "code",
   "execution_count": 53,
   "metadata": {},
   "outputs": [],
   "source": [
    "MDM = open('Albums/My_Dear_Melancholy.txt')\n",
    "\n",
    "lyrics_MDM = []\n",
    "\n",
    "for line in MDM:\n",
    "\n",
    "    words = line.split()\n",
    "\n",
    "    if len(words) and not words[0][0] == \"\\n\":\n",
    "\n",
    "        lyrics_MDM += words\n",
    "\n",
    "MDM.close()"
   ]
  },
  {
   "cell_type": "code",
   "execution_count": 54,
   "metadata": {},
   "outputs": [],
   "source": [
    "d9 = {'Album': [], 'Date':[], 'Lyrics':[]}\n",
    "MDM_df = pd.DataFrame(data=d9)\n",
    "MDM_df['Lyrics'] = lyrics_MDM\n",
    "MDM_df['Album'] = 'My Dear Melancholy,'\n",
    "MDM_df['Date'] = '03/30/2018'"
   ]
  },
  {
   "cell_type": "code",
   "execution_count": 56,
   "metadata": {},
   "outputs": [],
   "source": [
    "kissland_s = open('Singles/Kissland_Single.txt')\n",
    "\n",
    "lyrics_KLS = []\n",
    "\n",
    "for line in kissland_s:\n",
    "\n",
    "    words = line.split()\n",
    "\n",
    "    if len(words) and not words[0][0] == \"\\n\":\n",
    "\n",
    "        lyrics_KLS += words\n",
    "\n",
    "kissland_s.close()"
   ]
  },
  {
   "cell_type": "code",
   "execution_count": 57,
   "metadata": {
    "collapsed": true
   },
   "outputs": [],
   "source": [
    "d10 = {'Album': [], 'Date':[], 'Lyrics':[]}\n",
    "kissland_s_df = pd.DataFrame(data=d10)\n",
    "kissland_s_df['Lyrics'] = lyrics_KLS\n",
    "kissland_s_df['Album'] = 'Kiss Land'\n",
    "kissland_s_df['Date'] = '05/17/2013'"
   ]
  },
  {
   "cell_type": "code",
   "execution_count": 61,
   "metadata": {},
   "outputs": [],
   "source": [
    "BTTW = open('Singles/BTTW.txt')\n",
    "\n",
    "lyrics_BTTW = []\n",
    "\n",
    "for line in BTTW:\n",
    "\n",
    "    words = line.split()\n",
    "\n",
    "    if len(words) and not words[0][0] == \"\\n\":\n",
    "\n",
    "        lyrics_BTTW += words\n",
    "\n",
    "BTTW.close()"
   ]
  },
  {
   "cell_type": "code",
   "execution_count": 62,
   "metadata": {
    "collapsed": true
   },
   "outputs": [],
   "source": [
    "d11 = {'Album': [], 'Date':[], 'Lyrics':[]}\n",
    "BTTW_df = pd.DataFrame(data=d11)\n",
    "BTTW_df['Lyrics'] = lyrics_BTTW\n",
    "BTTW_df['Album'] = 'Kiss Land'\n",
    "BTTW_df['Date'] = '07/16/2013'"
   ]
  },
  {
   "cell_type": "code",
   "execution_count": 64,
   "metadata": {},
   "outputs": [],
   "source": [
    "earnedIt = open('Singles/Earned_It_.txt')\n",
    "\n",
    "lyrics_EI = []\n",
    "\n",
    "for line in earnedIt:\n",
    "\n",
    "    words = line.split()\n",
    "\n",
    "    if len(words) and not words[0][0] == \"\\n\":\n",
    "\n",
    "        lyrics_EI += words\n",
    "\n",
    "earnedIt.close()"
   ]
  },
  {
   "cell_type": "code",
   "execution_count": 65,
   "metadata": {
    "collapsed": true
   },
   "outputs": [],
   "source": [
    "d12 = {'Album': [], 'Date':[], 'Lyrics':[]}\n",
    "earnedIt_df = pd.DataFrame(data=d12)\n",
    "earnedIt_df['Lyrics'] = lyrics_EI\n",
    "earnedIt_df['Album'] = 'Beauty Behind the Madness'\n",
    "earnedIt_df['Date'] = '12/23/2014'"
   ]
  },
  {
   "cell_type": "code",
   "execution_count": 66,
   "metadata": {
    "collapsed": true
   },
   "outputs": [],
   "source": [
    "theHills = open('Singles/The_Hills_.txt')\n",
    "\n",
    "lyrics_H = []\n",
    "\n",
    "for line in theHills:\n",
    "\n",
    "    words = line.split()\n",
    "\n",
    "    if len(words) and not words[0][0] == \"\\n\":\n",
    "\n",
    "        lyrics_H += words\n",
    "\n",
    "theHills.close()"
   ]
  },
  {
   "cell_type": "code",
   "execution_count": 67,
   "metadata": {
    "collapsed": true
   },
   "outputs": [],
   "source": [
    "d13 = {'Album': [], 'Date':[], 'Lyrics':[]}\n",
    "theHills_df = pd.DataFrame(data=d13)\n",
    "theHills_df['Lyrics'] = lyrics_H\n",
    "theHills_df['Album'] = 'Beauty Behind the Madness'\n",
    "theHills_df['Date'] = '05/27/2015'"
   ]
  },
  {
   "cell_type": "code",
   "execution_count": 69,
   "metadata": {},
   "outputs": [],
   "source": [
    "CFMF = open('Singles/Can’t_Feel_My_Face.txt')\n",
    "\n",
    "lyrics_CFMF = []\n",
    "\n",
    "for line in CFMF:\n",
    "\n",
    "    words = line.split()\n",
    "\n",
    "    if len(words) and not words[0][0] == \"\\n\":\n",
    "\n",
    "        lyrics_CFMF += words\n",
    "\n",
    "CFMF.close()"
   ]
  },
  {
   "cell_type": "code",
   "execution_count": 70,
   "metadata": {
    "collapsed": true
   },
   "outputs": [],
   "source": [
    "d14 = {'Album': [], 'Date':[], 'Lyrics':[]}\n",
    "CFMF_df = pd.DataFrame(data=d14)\n",
    "CFMF_df['Lyrics'] = lyrics_CFMF\n",
    "CFMF_df['Album'] = 'Beauty Behind the Madness'\n",
    "CFMF_df['Date'] = '06/08/2015'"
   ]
  },
  {
   "cell_type": "code",
   "execution_count": 72,
   "metadata": {},
   "outputs": [],
   "source": [
    "starboyS = open('Singles/Starboy_single.txt')\n",
    "\n",
    "lyrics_SS = []\n",
    "\n",
    "for line in starboyS:\n",
    "\n",
    "    words = line.split()\n",
    "\n",
    "    if len(words) and not words[0][0] == \"\\n\":\n",
    "\n",
    "        lyrics_SS += words\n",
    "\n",
    "starboyS.close()"
   ]
  },
  {
   "cell_type": "code",
   "execution_count": 73,
   "metadata": {
    "collapsed": true
   },
   "outputs": [],
   "source": [
    "d15 = {'Album': [], 'Date':[], 'Lyrics':[]}\n",
    "starboyS_df = pd.DataFrame(data=d15)\n",
    "starboyS_df['Lyrics'] = lyrics_SS\n",
    "starboyS_df['Album'] = 'Starboy'\n",
    "starboyS_df['Date'] = '09/22/2016'"
   ]
  },
  {
   "cell_type": "code",
   "execution_count": 74,
   "metadata": {
    "collapsed": true
   },
   "outputs": [],
   "source": [
    "IFIC = open('Singles/feel_it_coming.txt')\n",
    "\n",
    "lyrics_IFIC = []\n",
    "\n",
    "for line in IFIC:\n",
    "\n",
    "    words = line.split()\n",
    "\n",
    "    if len(words) and not words[0][0] == \"\\n\":\n",
    "\n",
    "        lyrics_IFIC += words\n",
    "\n",
    "IFIC.close()"
   ]
  },
  {
   "cell_type": "code",
   "execution_count": 75,
   "metadata": {
    "collapsed": true
   },
   "outputs": [],
   "source": [
    "d16 = {'Album': [], 'Date':[], 'Lyrics':[]}\n",
    "IFIC_df = pd.DataFrame(data=d16)\n",
    "IFIC_df['Lyrics'] = lyrics_IFIC\n",
    "IFIC_df['Album'] = 'Starboy'\n",
    "IFIC_df['Date'] = '11/24/2016'\n"
   ]
  },
  {
   "cell_type": "code",
   "execution_count": null,
   "metadata": {
    "collapsed": true
   },
   "outputs": [],
   "source": []
  }
 ],
 "metadata": {
  "kernelspec": {
   "display_name": "Python 3",
   "language": "python",
   "name": "python3"
  },
  "language_info": {
   "codemirror_mode": {
    "name": "ipython",
    "version": 3
   },
   "file_extension": ".py",
   "mimetype": "text/x-python",
   "name": "python",
   "nbconvert_exporter": "python",
   "pygments_lexer": "ipython3",
   "version": "3.6.1"
  }
 },
 "nbformat": 4,
 "nbformat_minor": 2
}
